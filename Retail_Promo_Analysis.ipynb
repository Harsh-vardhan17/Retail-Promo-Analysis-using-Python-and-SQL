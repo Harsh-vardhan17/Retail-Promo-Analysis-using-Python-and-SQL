{
  "cells": [
    {
      "cell_type": "markdown",
      "id": "a541faae",
      "metadata": {
        "id": "a541faae"
      },
      "source": [
        "# 🛒 Retail Promo Analysis Dashboard"
      ]
    },
    {
      "cell_type": "markdown",
      "id": "8323f5b1",
      "metadata": {
        "id": "8323f5b1"
      },
      "source": [
        "## ✅ Step 0: Authenticate and Initialize BigQuery"
      ]
    },
    {
      "cell_type": "markdown",
      "id": "c1fdadfe",
      "metadata": {
        "id": "c1fdadfe"
      },
      "source": [
        "## 🔐 Step 1: Authenticate & Connect to BigQuery"
      ]
    },
    {
      "cell_type": "code",
      "execution_count": null,
      "id": "f930f044",
      "metadata": {
        "id": "f930f044"
      },
      "outputs": [],
      "source": [
        "\n",
        "from google.colab import auth\n",
        "auth.authenticate_user()\n",
        "\n",
        "from google.cloud import bigquery\n",
        "client = bigquery.Client(project=\"retail-1-462621\")\n"
      ]
    },
    {
      "cell_type": "markdown",
      "id": "e6d35021",
      "metadata": {
        "id": "e6d35021"
      },
      "source": [
        "## ✅ Step 1: Total Weekly Sales Trend"
      ]
    },
    {
      "cell_type": "markdown",
      "id": "39964ead",
      "metadata": {
        "id": "39964ead"
      },
      "source": [
        "## 📊 Step 2: Load & Explore Sales Data"
      ]
    },
    {
      "cell_type": "code",
      "execution_count": null,
      "id": "f8a3c002",
      "metadata": {
        "id": "f8a3c002"
      },
      "outputs": [],
      "source": [
        "\n",
        "query = '''\n",
        "    SELECT\n",
        "        Date,\n",
        "        SUM(Weekly_Sales) AS Total_Sales\n",
        "    FROM `retail-1-462621.walmart_data_1.walmart_sales`\n",
        "    GROUP BY Date\n",
        "    ORDER BY Date\n",
        "'''\n",
        "df_weekly_sales = client.query(query).to_dataframe()\n",
        "df_weekly_sales['Date'] = pd.to_datetime(df_weekly_sales['Date'])\n",
        "print(df_weekly_sales.head())\n"
      ]
    },
    {
      "cell_type": "markdown",
      "id": "1523257e",
      "metadata": {
        "id": "1523257e"
      },
      "source": [
        "## ✅ Step 2: Top Performing Stores"
      ]
    },
    {
      "cell_type": "markdown",
      "id": "f0604940",
      "metadata": {
        "id": "f0604940"
      },
      "source": [
        "## 🏪 Step 3: Identify Top Performing Stores"
      ]
    },
    {
      "cell_type": "code",
      "execution_count": null,
      "id": "17099a67",
      "metadata": {
        "id": "17099a67"
      },
      "outputs": [],
      "source": [
        "\n",
        "query = '''\n",
        "    SELECT\n",
        "        Store,\n",
        "        SUM(Weekly_Sales) AS Total_Sales\n",
        "    FROM `retail-1-462621.walmart_data_1.walmart_sales`\n",
        "    GROUP BY Store\n",
        "    ORDER BY Total_Sales DESC\n",
        "    LIMIT 10\n",
        "'''\n",
        "df_top_stores = client.query(query).to_dataframe()\n",
        "print(df_top_stores)\n"
      ]
    },
    {
      "cell_type": "markdown",
      "id": "377638ed",
      "metadata": {
        "id": "377638ed"
      },
      "source": [
        "## ✅ Step 3: Promo vs Non-Promo Sales Summary"
      ]
    },
    {
      "cell_type": "markdown",
      "id": "94297cfd",
      "metadata": {
        "id": "94297cfd"
      },
      "source": [
        "## 🎯 Step 4: Promo vs Non-Promo Sales Analysis"
      ]
    },
    {
      "cell_type": "code",
      "execution_count": null,
      "id": "6cbb9f08",
      "metadata": {
        "id": "6cbb9f08"
      },
      "outputs": [],
      "source": [
        "\n",
        "query = '''\n",
        "    SELECT\n",
        "        Holiday_Flag,\n",
        "        AVG(Weekly_Sales) AS Avg_Sales,\n",
        "        COUNT(*) AS Record_Count\n",
        "    FROM `retail-1-462621.walmart_data_1.walmart_sales`\n",
        "    GROUP BY Holiday_Flag\n",
        "'''\n",
        "df_promo_summary = client.query(query).to_dataframe()\n",
        "print(df_promo_summary)\n"
      ]
    },
    {
      "cell_type": "markdown",
      "id": "27de556a",
      "metadata": {
        "id": "27de556a"
      },
      "source": [
        "## ✅ Step 4: Store-Level Weekly Sales (Filtered View)"
      ]
    },
    {
      "cell_type": "markdown",
      "id": "4ccad7bf",
      "metadata": {
        "id": "4ccad7bf"
      },
      "source": [
        "## 📈 Step 5: Store-Level Weekly Sales Trends"
      ]
    },
    {
      "cell_type": "code",
      "execution_count": null,
      "id": "f9190999",
      "metadata": {
        "id": "f9190999"
      },
      "outputs": [],
      "source": [
        "\n",
        "query = '''\n",
        "    SELECT\n",
        "        Date,\n",
        "        Store,\n",
        "        SUM(Weekly_Sales) AS Weekly_Sales\n",
        "    FROM `retail-1-462621.walmart_data_1.walmart_sales`\n",
        "    GROUP BY Date, Store\n",
        "    ORDER BY Date, Store\n",
        "'''\n",
        "df_store_sales = client.query(query).to_dataframe()\n",
        "df_store_sales['Date'] = pd.to_datetime(df_store_sales['Date'])\n",
        "filtered = df_store_sales[df_store_sales['Store'].isin([1, 2, 3])]\n",
        "print(filtered.head())\n"
      ]
    },
    {
      "cell_type": "markdown",
      "id": "d3b90f02",
      "metadata": {
        "id": "d3b90f02"
      },
      "source": [
        "## ✅ Step 5: State-Wise Sales Totals (from merged data)"
      ]
    },
    {
      "cell_type": "markdown",
      "id": "bb804977",
      "metadata": {
        "id": "bb804977"
      },
      "source": [
        "## 🌐 Step 6: Merge with Store Location Data"
      ]
    },
    {
      "cell_type": "code",
      "execution_count": null,
      "id": "60bf66ca",
      "metadata": {
        "id": "60bf66ca"
      },
      "outputs": [],
      "source": [
        "\n",
        "# Assuming df_map is created from merging df_sales with store location data\n",
        "state_sales = df_map.groupby(\"state\")[\"Total_Sales\"].sum().sort_values(ascending=False).reset_index()\n",
        "print(state_sales.head())\n"
      ]
    },
    {
      "cell_type": "markdown",
      "id": "a508afac",
      "metadata": {
        "id": "a508afac"
      },
      "source": [
        "## ✅ Step 6: Visualize Promo Impact"
      ]
    },
    {
      "cell_type": "markdown",
      "id": "b0d56490",
      "metadata": {
        "id": "b0d56490"
      },
      "source": [
        "## 📍 Step 7: State-Wise Sales Summary"
      ]
    },
    {
      "cell_type": "code",
      "execution_count": null,
      "id": "a15253c4",
      "metadata": {
        "id": "a15253c4"
      },
      "outputs": [],
      "source": [
        "\n",
        "import seaborn as sns\n",
        "import matplotlib.pyplot as plt\n",
        "\n",
        "sns.barplot(data=df_promo_summary, x=\"Holiday_Flag\", y=\"Avg_Sales\")\n",
        "plt.title(\"Average Weekly Sales: Holiday vs Non-Holiday\")\n",
        "plt.xlabel(\"Holiday Flag (1 = Promo Week)\")\n",
        "plt.ylabel(\"Average Sales\")\n",
        "plt.show()\n"
      ]
    },
    {
      "cell_type": "markdown",
      "id": "26b23be8",
      "metadata": {
        "id": "26b23be8"
      },
      "source": [
        "## ✅ Step 7: Weekly Sales Line Chart"
      ]
    },
    {
      "cell_type": "markdown",
      "id": "a5abd27a",
      "metadata": {
        "id": "a5abd27a"
      },
      "source": [
        "## 🔮 Step 8: Forecast Weekly Sales using Prophet"
      ]
    },
    {
      "cell_type": "code",
      "execution_count": null,
      "id": "05501f02",
      "metadata": {
        "id": "05501f02"
      },
      "outputs": [],
      "source": [
        "\n",
        "plt.figure(figsize=(12, 5))\n",
        "plt.plot(df_weekly_sales['Date'], df_weekly_sales['Total_Sales'], marker='o')\n",
        "plt.title(\"Total Weekly Sales Across the U.S.\")\n",
        "plt.xlabel(\"Date\")\n",
        "plt.ylabel(\"Total Sales\")\n",
        "plt.grid(True)\n",
        "plt.tight_layout()\n",
        "plt.show()\n"
      ]
    },
    {
      "cell_type": "markdown",
      "id": "0964faf3",
      "metadata": {
        "id": "0964faf3"
      },
      "source": [
        "## ✅ Step 8: Geographic Store Sales Map"
      ]
    },
    {
      "cell_type": "markdown",
      "id": "5538489b",
      "metadata": {
        "id": "5538489b"
      },
      "source": [
        "## 🗺️ Step 9: Map of Store Locations"
      ]
    },
    {
      "cell_type": "code",
      "execution_count": null,
      "id": "f718a832",
      "metadata": {
        "id": "f718a832"
      },
      "outputs": [],
      "source": [
        "\n",
        "import plotly.express as px\n",
        "\n",
        "fig = px.scatter_mapbox(\n",
        "    df_map,\n",
        "    lat=\"latitude\",\n",
        "    lon=\"longitude\",\n",
        "    size=\"Total_Sales\",\n",
        "    color=\"Total_Sales\",\n",
        "    hover_name=\"name\",\n",
        "    mapbox_style=\"carto-positron\",\n",
        "    zoom=3,\n",
        "    title=\"Walmart Store Sales by Geographic Location\"\n",
        ")\n",
        "fig.show()\n"
      ]
    },
    {
      "cell_type": "markdown",
      "id": "e2f6d9c8",
      "metadata": {
        "id": "e2f6d9c8"
      },
      "source": [
        "## ✅ Step 9: Monthly Forecasting Using Prophet"
      ]
    },
    {
      "cell_type": "code",
      "execution_count": null,
      "id": "9d034f87",
      "metadata": {
        "id": "9d034f87"
      },
      "outputs": [],
      "source": [
        "\n",
        "df_weekly_sales['Month'] = df_weekly_sales['Date'].dt.to_period('M').dt.to_timestamp()\n",
        "monthly_df = df_weekly_sales.groupby(\"Month\").agg({\"Total_Sales\": \"sum\"}).reset_index()\n"
      ]
    },
    {
      "cell_type": "code",
      "execution_count": null,
      "id": "ad313fcd",
      "metadata": {
        "id": "ad313fcd"
      },
      "outputs": [],
      "source": [
        "\n",
        "df_monthly_prophet = monthly_df.rename(columns={\n",
        "    \"Month\": \"ds\",\n",
        "    \"Total_Sales\": \"y\"\n",
        "})\n"
      ]
    },
    {
      "cell_type": "code",
      "execution_count": null,
      "id": "b6c3adaf",
      "metadata": {
        "id": "b6c3adaf"
      },
      "outputs": [],
      "source": [
        "\n",
        "!pip install prophet --quiet\n",
        "from prophet import Prophet\n",
        "import matplotlib.pyplot as plt\n"
      ]
    },
    {
      "cell_type": "code",
      "execution_count": null,
      "id": "7143a08f",
      "metadata": {
        "id": "7143a08f"
      },
      "outputs": [],
      "source": [
        "\n",
        "model = Prophet()\n",
        "model.fit(df_monthly_prophet)\n"
      ]
    },
    {
      "cell_type": "code",
      "execution_count": null,
      "id": "585ae5fe",
      "metadata": {
        "id": "585ae5fe"
      },
      "outputs": [],
      "source": [
        "\n",
        "future = model.make_future_dataframe(periods=6, freq='M')\n",
        "forecast = model.predict(future)\n"
      ]
    },
    {
      "cell_type": "code",
      "execution_count": null,
      "id": "85c54d43",
      "metadata": {
        "id": "85c54d43"
      },
      "outputs": [],
      "source": [
        "\n",
        "fig = model.plot(forecast)\n",
        "plt.title(\"Monthly Walmart Sales Forecast\")\n",
        "plt.xlabel(\"Month\")\n",
        "plt.ylabel(\"Sales\")\n",
        "plt.show()\n"
      ]
    },
    {
      "cell_type": "code",
      "execution_count": null,
      "id": "31cab784",
      "metadata": {
        "id": "31cab784"
      },
      "outputs": [],
      "source": [
        "\n",
        "fig2 = model.plot_components(forecast)\n"
      ]
    },
    {
      "cell_type": "markdown",
      "id": "4f166acf",
      "metadata": {
        "id": "4f166acf"
      },
      "source": [
        "## ✅ Step 10: Final Thoughts & Improvements"
      ]
    }
  ],
  "metadata": {
    "colab": {
      "provenance": []
    },
    "language_info": {
      "name": "python"
    },
    "kernelspec": {
      "name": "python3",
      "display_name": "Python 3"
    }
  },
  "nbformat": 4,
  "nbformat_minor": 5
}